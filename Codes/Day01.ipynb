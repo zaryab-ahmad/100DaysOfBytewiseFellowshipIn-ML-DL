{
 "cells": [
  {
   "cell_type": "markdown",
   "id": "d29a1211",
   "metadata": {},
   "source": [
    "Exercise: Sum of Two Numbers<br>\n",
    "Task: Write a program that takes two numbers from the user and prints their sum.<br>\n",
    "\n",
    "Expected Output:<br>\n",
    "Enter first number: 3<br>\n",
    "Enter second number: 4<br>\n",
    "The sum is: 7.0<br>\n"
   ]
  },
  {
   "cell_type": "code",
   "execution_count": 3,
   "id": "a7fb79dc",
   "metadata": {},
   "outputs": [
    {
     "name": "stdout",
     "output_type": "stream",
     "text": [
      "Enter any Number:   3\n",
      "Enter any Number:   4\n",
      "The Sum of the Number is:   7.0\n"
     ]
    }
   ],
   "source": [
    "firstNum = input(\"Enter any Number:   \")\n",
    "secoundNum = input(\"Enter any Number:   \")\n",
    "\n",
    "firstNum = float(firstNum)\n",
    "secondNum = float(secoundNum)\n",
    "\n",
    "theSum = firstNum + secondNum\n",
    "\n",
    "print(\"The Sum of the Number is:  \", theSum)"
   ]
  },
  {
   "cell_type": "markdown",
   "id": "69695349",
   "metadata": {},
   "source": [
    "Exercise : Area of a Circle<br>\n",
    "Task: Write a program to calculate the area of a circle given its radius.<br>\n",
    "\n",
    "Expected Output:<br>\n",
    "Enter the radius of the circle: 5<br>\n",
    "The area of the circle is: 78.53981633974483<br>\n"
   ]
  },
  {
   "cell_type": "code",
   "execution_count": 13,
   "id": "217efa77",
   "metadata": {},
   "outputs": [
    {
     "name": "stdout",
     "output_type": "stream",
     "text": [
      "Enter te radius of the Circle:  5\n",
      "78.5\n"
     ]
    }
   ],
   "source": [
    "radius = int(input(\"Enter te radius of the Circle:  \"))\n",
    "areaOfCircle  = float(3.14 * radius * radius)\n",
    "print(areaOfCircle)"
   ]
  },
  {
   "cell_type": "markdown",
   "id": "761219fd",
   "metadata": {},
   "source": [
    "Exercise: Even or Odd<br>\n",
    "Task: Write a program that checks if a number is even or odd.\n",
    "<br>\n",
    "Expected Output:<br>\n",
    "Enter a number: 7<br>\n",
    "7 is odd<br>\n"
   ]
  },
  {
   "cell_type": "code",
   "execution_count": 10,
   "id": "a2290ebe",
   "metadata": {},
   "outputs": [
    {
     "name": "stdout",
     "output_type": "stream",
     "text": [
      "Enter any Number: 7\n",
      "7  is Odd\n"
     ]
    }
   ],
   "source": [
    "number = int(input(\"Enter any Number: \"))\n",
    "\n",
    "if number % 2 == 0:\n",
    "    print(\"The Number is Even\")\n",
    "    \n",
    "else:\n",
    "        print(number ,\" is Odd\")"
   ]
  },
  {
   "cell_type": "markdown",
   "id": "85cda4da",
   "metadata": {},
   "source": [
    "\n",
    "Exercise: Simple Calculator<br>\n",
    "Task: Write a program that performs basic arithmetic operations (addition, subtraction, multiplication, division) based on user input.\n",
    "<br>\n",
    "Expected Output:<br>\n",
    "Enter first number: 10<br>\n",
    "Enter second number: 3<br>\n",
    "Enter operation (+, -, *, /): /<br>\n",
    "The result is: 3.3333333333333335<br>\n"
   ]
  },
  {
   "cell_type": "code",
   "execution_count": 12,
   "id": "32306ed6",
   "metadata": {},
   "outputs": [
    {
     "name": "stdout",
     "output_type": "stream",
     "text": [
      "Enter Any Number:  10\n",
      "Enter any number:   3\n",
      "Enter an Oprator In the following list + , - , * , //\n",
      "3.3333333333333335\n"
     ]
    }
   ],
   "source": [
    "firstNum = int(input(\"Enter Any Number:  \"))\n",
    "secondNum = int(input(\"Enter any number:   \"))\n",
    "\n",
    "oprator = input(\"Enter an Oprator In the following list + , - , * , /\")\n",
    "result = 0\n",
    "if oprator == '+':\n",
    "    result = firstNum + secondNum\n",
    "    \n",
    "elif  oprator == '-':\n",
    "    result = firstNum - secondNum\n",
    "    \n",
    "elif oprator == '*':\n",
    "    result = firstNum * secondNum\n",
    "    \n",
    "else:\n",
    "    result = firstNum / secondNum\n",
    "print(result)"
   ]
  },
  {
   "cell_type": "markdown",
   "id": "50ab849a",
   "metadata": {},
   "source": [
    "Exercise: Find the Largest Number<br>\n",
    "Task:Write a program to find the largest of three numbers.\n",
    "<br>\n",
    "Expected Output:<br>\n",
    "Enter first number: 7<br>\n",
    "Enter second number: 15<br>\n",
    "Enter third number: 10<br>\n",
    "The largest number is: 15<br>\n"
   ]
  },
  {
   "cell_type": "code",
   "execution_count": 21,
   "id": "c17fd6f4",
   "metadata": {},
   "outputs": [
    {
     "name": "stdout",
     "output_type": "stream",
     "text": [
      "Enter any number: 15\n",
      "Enter any number: 7\n",
      "Enter any number: 10\n",
      "The Largest Number is  15\n"
     ]
    }
   ],
   "source": [
    "a = int(input(\"Enter any number: \"))\n",
    "b = int(input(\"Enter any number: \"))\n",
    "c = int(input(\"Enter any number: \"))\n",
    "\n",
    "largestNum = 0\n",
    "# for a\n",
    "if a > b and a > c:\n",
    "    largestNum = a\n",
    "\n",
    "elif b > a and b > c:\n",
    "    largestNum = b\n",
    "\n",
    "# for b\n",
    "\n",
    "elif c > a and c > b:\n",
    "    largestNum = c\n",
    "\n",
    "    \n",
    "print(\"The Largest Number is \", largestNum)"
   ]
  },
  {
   "cell_type": "markdown",
   "id": "60d7191c",
   "metadata": {},
   "source": [
    "Exercise: Reverse a String<br>\n",
    "Task: Write a program that takes a string from the user and prints it in reverse.\n",
    "<br>\n",
    "Expected Output:<br>\n",
    "Enter a string: hello<br>\n",
    "The reversed string is: olleh<br>\n"
   ]
  },
  {
   "cell_type": "code",
   "execution_count": 38,
   "id": "8ca976a1",
   "metadata": {},
   "outputs": [
    {
     "name": "stdout",
     "output_type": "stream",
     "text": [
      "Enter a string:  hello\n",
      "olleh"
     ]
    }
   ],
   "source": [
    "string = input(\"Enter a string:  \")\n",
    "start = len(string) -1\n",
    "for i in range(start,-1 ,-1):\n",
    "    print(string[i], end=\"\")\n",
    "    "
   ]
  },
  {
   "cell_type": "markdown",
   "id": "c0a527e4",
   "metadata": {},
   "source": [
    "Exercise: Count Vowels<br>\n",
    "Task: Write a program that counts the number of vowels in a given string.\n",
    "<br>\n",
    "Expected Output:<br>\n",
    "Enter a string: Nimra Waqar<br>\n",
    "The number of vowels is: 4<br>\n"
   ]
  },
  {
   "cell_type": "code",
   "execution_count": 36,
   "id": "8ef9e9f9",
   "metadata": {},
   "outputs": [
    {
     "name": "stdout",
     "output_type": "stream",
     "text": [
      "The number of vowels =  4\n"
     ]
    }
   ],
   "source": [
    "string = \"Nimra Waqar\"\n",
    "\n",
    "vowels = 0\n",
    "\n",
    "for i in range(len(string)):\n",
    "    if string[i] in [\"a\",\"i\",\"o\",\"u\",\"e\"]:\n",
    "        vowels = vowels +1\n",
    "    elif string[i] in [\"A\",\"I\",\"O\",\"U\",\"E\"]:\n",
    "        vowels = vowels +1\n",
    "print(\"The number of vowels = \", vowels)\n",
    "    "
   ]
  },
  {
   "cell_type": "markdown",
   "id": "0224e67b",
   "metadata": {},
   "source": [
    "Exercise : Fibonacci Sequence<br>\n",
    "Task: Write a program to print the Fibonacci sequence up to n terms.\n",
    "<br>\n",
    "Expected Output:<br>\n",
    "How many terms? 5<br>\n",
    "Fibonacci sequence:<br>\n",
    "0 1 1 2 3 <br>\n"
   ]
  },
  {
   "cell_type": "code",
   "execution_count": 39,
   "id": "423360bf",
   "metadata": {},
   "outputs": [
    {
     "name": "stdout",
     "output_type": "stream",
     "text": [
      "How many terms? 5\n",
      "Fibonacci sequence:\n",
      "0 1 1 2 3 "
     ]
    }
   ],
   "source": [
    "def fibonacci_sequence(n):\n",
    "    a, b = 0, 1\n",
    "    sequence = []\n",
    "    \n",
    "    for _ in range(n):\n",
    "        sequence.append(a)\n",
    "        a, b = b, a + b\n",
    "    \n",
    "    return sequence\n",
    "\n",
    "\n",
    "n_terms = int(input(\"How many terms? \"))\n",
    "\n",
    "if n_terms <= 0:\n",
    "    print(\"Please enter a positive integer\")\n",
    "else:\n",
    "    print(\"Fibonacci sequence:\")\n",
    "    fib_sequence = fibonacci_sequence(n_terms)\n",
    "    for num in fib_sequence:\n",
    "        print(num, end=\" \")"
   ]
  },
  {
   "cell_type": "markdown",
   "id": "280b1a47",
   "metadata": {},
   "source": [
    "Exercise: Check for Palindrome<br>\n",
    "Task: Write a program to check if a given string is a palindrome.\n",
    "<br>\n",
    "Expected Output:<br>\n",
    "Enter a string: radar<br>\n",
    "radar is a palindrome<br>\n"
   ]
  },
  {
   "cell_type": "code",
   "execution_count": 40,
   "id": "4b56c20e",
   "metadata": {},
   "outputs": [
    {
     "name": "stdout",
     "output_type": "stream",
     "text": [
      "Enter a String:  radar\n",
      "The Input Strings is Palindrome: \n"
     ]
    }
   ],
   "source": [
    "def is_palindrome(s):\n",
    "    unrevers = s\n",
    "    revers = ''\n",
    "    for i in range(len(s) - 1,-1 ,-1):\n",
    "        revers = revers + s[i]\n",
    "    if revers  == unrevers:\n",
    "        print(\"The Input Strings is Palindrome: \")\n",
    "    else:\n",
    "        print(\"The input String is not Palindrome:\")\n",
    "\n",
    "string = input(\"Enter a String:  \")\n",
    "\n",
    "is_palindrome(string)"
   ]
  },
  {
   "cell_type": "code",
   "execution_count": null,
   "id": "3aad51ee",
   "metadata": {},
   "outputs": [],
   "source": []
  }
 ],
 "metadata": {
  "kernelspec": {
   "display_name": "Python 3 (ipykernel)",
   "language": "python",
   "name": "python3"
  },
  "language_info": {
   "codemirror_mode": {
    "name": "ipython",
    "version": 3
   },
   "file_extension": ".py",
   "mimetype": "text/x-python",
   "name": "python",
   "nbconvert_exporter": "python",
   "pygments_lexer": "ipython3",
   "version": "3.11.3"
  }
 },
 "nbformat": 4,
 "nbformat_minor": 5
}
