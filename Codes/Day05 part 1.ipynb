{
 "cells": [
  {
   "cell_type": "markdown",
   "id": "eebf44f3",
   "metadata": {},
   "source": [
    "<h4>Implement a linear regression model to predict housing prices based on a given dataset.</h4>\n",
    "Expected Output:<br>\n",
    "Load a dataset the Boston Housing dataset.<br>\n",
    "Train a linear regression model.<br>\n",
    "Print the model's coefficients and intercept.<br>\n",
    "Predict housing prices on a test set and print the mean squared error.<br>\n",
    "Visualize the regression line and data points.\n"
   ]
  },
  {
   "cell_type": "markdown",
   "id": "30ed0069",
   "metadata": {},
   "source": [
    "# import all important  libraries\n",
    "\n",
    "<h4>numpy:</h4> Used for numerical operations and handling arrays.\n",
    "<h4>pandas: </h4>Used for data manipulation and analysis.\n",
    "<h4>fetch_openml:</h4> Used to fetch the Boston Housing dataset from OpenML.\n",
    "<h4>train_test_split: </h4>Used to split the dataset into training and testing sets.\n",
    "<h4>LinearRegression:</h4> Used to create and train a linear regression model.\n",
    "<h4>mean_squared_error: </h4>Used to calculate the mean squared error of the model's predictions.\n",
    "<h4>matplotlib.pyplot: </h4>Used to create visualizations, such as scatter plots and regression lines."
   ]
  },
  {
   "cell_type": "code",
   "execution_count": 10,
   "id": "05f1dc72",
   "metadata": {},
   "outputs": [],
   "source": [
    "import numpy as np\n",
    "import pandas as pd\n",
    "from sklearn.datasets import fetch_openml\n",
    "from sklearn.model_selection import train_test_split\n",
    "from sklearn.linear_model import LinearRegression\n",
    "from sklearn.metrics import mean_squared_error\n",
    "import matplotlib.pyplot as plt\n"
   ]
  },
  {
   "cell_type": "markdown",
   "id": "f9ad2981",
   "metadata": {},
   "source": [
    "<h4>fetch_openml:</h4> Loads the Boston Housing dataset from OpenML as a pandas DataFrame.\n",
    "<h4>df::</h4> Stores the DataFrame containing the feature data.\n",
    "<h4>df['PRICE']::</h4> Adds the target variable (house prices) as a new column named 'PRICE' in the DataFrame."
   ]
  },
  {
   "cell_type": "code",
   "execution_count": 11,
   "id": "085c694f",
   "metadata": {},
   "outputs": [
    {
     "name": "stderr",
     "output_type": "stream",
     "text": [
      "C:\\Users\\hp\\anaconda3\\Lib\\site-packages\\sklearn\\datasets\\_openml.py:968: FutureWarning: The default value of `parser` will change from `'liac-arff'` to `'auto'` in 1.4. You can set `parser='auto'` to silence this warning. Therefore, an `ImportError` will be raised from 1.4 if the dataset is dense and pandas is not installed. Note that the pandas parser may return different data types. See the Notes Section in fetch_openml's API doc for details.\n",
      "  warn(\n"
     ]
    }
   ],
   "source": [
    "boston = fetch_openml(name='boston', version=1, as_frame=True)\n",
    "df = boston.frame\n",
    "df['PRICE'] = boston.target"
   ]
  },
  {
   "cell_type": "markdown",
   "id": "af684ab0",
   "metadata": {},
   "source": [
    "<h4>X = df[['RM']]:</h4> Selects the 'RM' (average number of rooms per dwelling) column from the DataFrame and stores it in X.\n",
    "<h4>y = df['PRICE']:</h4> Selects the 'PRICE' (house prices) column from the DataFrame and stores it in y.\n",
    "<h4>print(X): </h4>Prints the DataFrame X, showing the number of rooms per dwelling.\n",
    "<h4>print(y):</h4> Prints the Series y, showing the house prices."
   ]
  },
  {
   "cell_type": "code",
   "execution_count": 18,
   "id": "23742956",
   "metadata": {},
   "outputs": [
    {
     "name": "stdout",
     "output_type": "stream",
     "text": [
      "        RM\n",
      "0    6.575\n",
      "1    6.421\n",
      "2    7.185\n",
      "3    6.998\n",
      "4    7.147\n",
      "..     ...\n",
      "501  6.593\n",
      "502  6.120\n",
      "503  6.976\n",
      "504  6.794\n",
      "505  6.030\n",
      "\n",
      "[506 rows x 1 columns]\n",
      "0      24.0\n",
      "1      21.6\n",
      "2      34.7\n",
      "3      33.4\n",
      "4      36.2\n",
      "       ... \n",
      "501    22.4\n",
      "502    20.6\n",
      "503    23.9\n",
      "504    22.0\n",
      "505    11.9\n",
      "Name: PRICE, Length: 506, dtype: float64\n"
     ]
    }
   ],
   "source": [
    "X = df[['RM']] \n",
    "y = df['PRICE']\n",
    "print(X)\n",
    "print(y)"
   ]
  },
  {
   "cell_type": "markdown",
   "id": "2568fd5f",
   "metadata": {},
   "source": [
    "<h4>train_test_split: </h4>Splits the dataset into training and testing sets.\n",
    "<h4>test_size=0.2: </h4>20% of the data is used for testing, and 80% is used for training.\n",
    "<h4>random_state=42</h4>: Ensures reproducibility of the data split."
   ]
  },
  {
   "cell_type": "code",
   "execution_count": null,
   "id": "2d2515a0",
   "metadata": {},
   "outputs": [],
   "source": [
    "X_train, X_test, y_train, y_test = train_test_split(X, y, test_size=0.2, random_state=42)\n"
   ]
  },
  {
   "cell_type": "code",
   "execution_count": 20,
   "id": "826cd8b3",
   "metadata": {},
   "outputs": [
    {
     "name": "stdout",
     "output_type": "stream",
     "text": [
      "        RM\n",
      "477  5.304\n",
      "15   5.834\n",
      "332  6.031\n",
      "423  6.103\n",
      "19   5.727\n",
      "..     ...\n",
      "106  5.836\n",
      "270  5.856\n",
      "348  6.635\n",
      "435  6.629\n",
      "102  6.405\n",
      "\n",
      "[404 rows x 1 columns]\n",
      "        RM\n",
      "173  6.416\n",
      "274  6.758\n",
      "491  5.983\n",
      "72   6.065\n",
      "452  6.297\n",
      "..     ...\n",
      "412  4.628\n",
      "436  6.461\n",
      "411  6.657\n",
      "86   6.015\n",
      "75   6.286\n",
      "\n",
      "[102 rows x 1 columns]\n",
      "477    12.0\n",
      "15     19.9\n",
      "332    19.4\n",
      "423    13.4\n",
      "19     18.2\n",
      "       ... \n",
      "106    19.5\n",
      "270    21.1\n",
      "348    24.5\n",
      "435    13.4\n",
      "102    18.6\n",
      "Name: PRICE, Length: 404, dtype: float64\n",
      "173    23.6\n",
      "274    32.4\n",
      "491    13.6\n",
      "72     22.8\n",
      "452    16.1\n",
      "       ... \n",
      "412    17.9\n",
      "436     9.6\n",
      "411    17.2\n",
      "86     22.5\n",
      "75     21.4\n",
      "Name: PRICE, Length: 102, dtype: float64\n"
     ]
    }
   ],
   "source": [
    "print(X_train)\n",
    "print(X_test)\n",
    "print(y_train)\n",
    "print(y_test)"
   ]
  },
  {
   "cell_type": "markdown",
   "id": "1419ec4a",
   "metadata": {},
   "source": [
    "<h4>model = LinearRegression():</h4>\n",
    "Creates an instance of the linear regression model.\n",
    "<h4>model.fit(X_train, y_train):</h4>\n",
    "Trains the linear regression model using the training data (X_train and y_train)."
   ]
  },
  {
   "cell_type": "code",
   "execution_count": 21,
   "id": "c85f4683",
   "metadata": {},
   "outputs": [
    {
     "data": {
      "text/html": [
       "<style>#sk-container-id-2 {color: black;background-color: white;}#sk-container-id-2 pre{padding: 0;}#sk-container-id-2 div.sk-toggleable {background-color: white;}#sk-container-id-2 label.sk-toggleable__label {cursor: pointer;display: block;width: 100%;margin-bottom: 0;padding: 0.3em;box-sizing: border-box;text-align: center;}#sk-container-id-2 label.sk-toggleable__label-arrow:before {content: \"▸\";float: left;margin-right: 0.25em;color: #696969;}#sk-container-id-2 label.sk-toggleable__label-arrow:hover:before {color: black;}#sk-container-id-2 div.sk-estimator:hover label.sk-toggleable__label-arrow:before {color: black;}#sk-container-id-2 div.sk-toggleable__content {max-height: 0;max-width: 0;overflow: hidden;text-align: left;background-color: #f0f8ff;}#sk-container-id-2 div.sk-toggleable__content pre {margin: 0.2em;color: black;border-radius: 0.25em;background-color: #f0f8ff;}#sk-container-id-2 input.sk-toggleable__control:checked~div.sk-toggleable__content {max-height: 200px;max-width: 100%;overflow: auto;}#sk-container-id-2 input.sk-toggleable__control:checked~label.sk-toggleable__label-arrow:before {content: \"▾\";}#sk-container-id-2 div.sk-estimator input.sk-toggleable__control:checked~label.sk-toggleable__label {background-color: #d4ebff;}#sk-container-id-2 div.sk-label input.sk-toggleable__control:checked~label.sk-toggleable__label {background-color: #d4ebff;}#sk-container-id-2 input.sk-hidden--visually {border: 0;clip: rect(1px 1px 1px 1px);clip: rect(1px, 1px, 1px, 1px);height: 1px;margin: -1px;overflow: hidden;padding: 0;position: absolute;width: 1px;}#sk-container-id-2 div.sk-estimator {font-family: monospace;background-color: #f0f8ff;border: 1px dotted black;border-radius: 0.25em;box-sizing: border-box;margin-bottom: 0.5em;}#sk-container-id-2 div.sk-estimator:hover {background-color: #d4ebff;}#sk-container-id-2 div.sk-parallel-item::after {content: \"\";width: 100%;border-bottom: 1px solid gray;flex-grow: 1;}#sk-container-id-2 div.sk-label:hover label.sk-toggleable__label {background-color: #d4ebff;}#sk-container-id-2 div.sk-serial::before {content: \"\";position: absolute;border-left: 1px solid gray;box-sizing: border-box;top: 0;bottom: 0;left: 50%;z-index: 0;}#sk-container-id-2 div.sk-serial {display: flex;flex-direction: column;align-items: center;background-color: white;padding-right: 0.2em;padding-left: 0.2em;position: relative;}#sk-container-id-2 div.sk-item {position: relative;z-index: 1;}#sk-container-id-2 div.sk-parallel {display: flex;align-items: stretch;justify-content: center;background-color: white;position: relative;}#sk-container-id-2 div.sk-item::before, #sk-container-id-2 div.sk-parallel-item::before {content: \"\";position: absolute;border-left: 1px solid gray;box-sizing: border-box;top: 0;bottom: 0;left: 50%;z-index: -1;}#sk-container-id-2 div.sk-parallel-item {display: flex;flex-direction: column;z-index: 1;position: relative;background-color: white;}#sk-container-id-2 div.sk-parallel-item:first-child::after {align-self: flex-end;width: 50%;}#sk-container-id-2 div.sk-parallel-item:last-child::after {align-self: flex-start;width: 50%;}#sk-container-id-2 div.sk-parallel-item:only-child::after {width: 0;}#sk-container-id-2 div.sk-dashed-wrapped {border: 1px dashed gray;margin: 0 0.4em 0.5em 0.4em;box-sizing: border-box;padding-bottom: 0.4em;background-color: white;}#sk-container-id-2 div.sk-label label {font-family: monospace;font-weight: bold;display: inline-block;line-height: 1.2em;}#sk-container-id-2 div.sk-label-container {text-align: center;}#sk-container-id-2 div.sk-container {/* jupyter's `normalize.less` sets `[hidden] { display: none; }` but bootstrap.min.css set `[hidden] { display: none !important; }` so we also need the `!important` here to be able to override the default hidden behavior on the sphinx rendered scikit-learn.org. See: https://github.com/scikit-learn/scikit-learn/issues/21755 */display: inline-block !important;position: relative;}#sk-container-id-2 div.sk-text-repr-fallback {display: none;}</style><div id=\"sk-container-id-2\" class=\"sk-top-container\"><div class=\"sk-text-repr-fallback\"><pre>LinearRegression()</pre><b>In a Jupyter environment, please rerun this cell to show the HTML representation or trust the notebook. <br />On GitHub, the HTML representation is unable to render, please try loading this page with nbviewer.org.</b></div><div class=\"sk-container\" hidden><div class=\"sk-item\"><div class=\"sk-estimator sk-toggleable\"><input class=\"sk-toggleable__control sk-hidden--visually\" id=\"sk-estimator-id-2\" type=\"checkbox\" checked><label for=\"sk-estimator-id-2\" class=\"sk-toggleable__label sk-toggleable__label-arrow\">LinearRegression</label><div class=\"sk-toggleable__content\"><pre>LinearRegression()</pre></div></div></div></div></div>"
      ],
      "text/plain": [
       "LinearRegression()"
      ]
     },
     "execution_count": 21,
     "metadata": {},
     "output_type": "execute_result"
    }
   ],
   "source": [
    "model = LinearRegression()\n",
    "model.fit(X_train, y_train)\n"
   ]
  },
  {
   "cell_type": "markdown",
   "id": "063084fd",
   "metadata": {},
   "source": [
    "<h4>Coefficients:</h4> he slopes of the linear regression line for each feature. <br>In this case, since we are using only one feature ('RM'), this will print the coefficient for the 'RM' feature.\n",
    "<h4>Intercept: </h4>The y-intercept of the linear regression line. This is the value of the target variable<br> (house price) when all the feature values are zero."
   ]
  },
  {
   "cell_type": "code",
   "execution_count": 22,
   "id": "1b03fb01",
   "metadata": {},
   "outputs": [
    {
     "name": "stdout",
     "output_type": "stream",
     "text": [
      "Coefficients: [9.34830141]\n",
      "Intercept: -36.24631889813795\n"
     ]
    }
   ],
   "source": [
    "print(f'Coefficients: {model.coef_}')\n",
    "print(f'Intercept: {model.intercept_}')\n"
   ]
  },
  {
   "cell_type": "markdown",
   "id": "c817ed81",
   "metadata": {},
   "source": [
    "<h4>y_pred = model.predict(X_test):</h4>\n",
    "\n",
    "Uses the trained model to predict house prices based on the test set features (X_test).<br>\n",
    "Stores the predictions in y_pred.\n",
    "<h4>print(y_pred):</h4>\n",
    "\n",
    "Prints the array of predicted house prices."
   ]
  },
  {
   "cell_type": "code",
   "execution_count": 24,
   "id": "fe110035",
   "metadata": {},
   "outputs": [
    {
     "name": "stdout",
     "output_type": "stream",
     "text": [
      "[23.73238293 26.92950201 19.68456842 20.45112913 22.61993506 22.45166563\n",
      " 19.03953562 21.47009399 21.98425056 20.09589368 19.38542277 19.88088275\n",
      "  5.99865516 22.01229547 17.11378553 29.00482492 18.71234507  9.37339197\n",
      " 37.37155468 21.5729253  22.08708188 24.34937082 17.16052704 25.38703227\n",
      " 19.89957935 14.48691283 18.66560356 26.64905296 19.46955748 17.91773945\n",
      " 15.84241654 23.82586594 32.11780929 13.87927324 19.87153445 17.12313383\n",
      " 30.92122671 18.61886206 20.44178083 22.13382339 14.14102568 27.78019743\n",
      " 38.8579346  16.04807917 23.74173123 17.16052704 17.04834742 23.74173123\n",
      " 21.40465588 25.21876285 19.92762425 28.8926453  21.17094834 27.14451294\n",
      " 33.58549261 22.76015958 21.89076755 27.89237705 23.47997879 16.15091049\n",
      " 26.96689521 31.519518   25.00375192 14.75801358 25.25615606 13.71100382\n",
      " 24.2465395  22.66667657 25.40572888 19.61913031 17.84295304 26.8547156\n",
      " 18.47863754 19.24519825 21.15225174 14.72996867 21.40465588 37.16589205\n",
      " 24.93831381 14.36538492 18.76843488 16.2630901  18.68430017 10.83172698\n",
      " 20.05850047 26.63035636 26.39664883 23.72303462 21.81598114 24.08761838\n",
      " 20.03045557 13.33707176 22.8910358  18.8899628  -2.95701759 23.32105766\n",
      " 21.86272264  7.01762001 24.15305649 25.98532356 19.98371406 22.51710374]\n"
     ]
    }
   ],
   "source": [
    "y_pred = model.predict(X_test)\n",
    "print(y_pred)"
   ]
  },
  {
   "cell_type": "markdown",
   "id": "671dcef6",
   "metadata": {},
   "source": [
    "<h4>mse = mean_squared_error(y_test, y_pred):</h4>\n",
    "\n",
    "Computes the mean squared error between the actual house prices (y_test) and the predicted house prices (y_pred).<br>\n",
    "Stores the computed MSE value in mse.\n",
    "<h4>print(f'Mean Squared Error: {mse}'):</h4>\n",
    "\n",
    "Prints the calculated mean squared error value."
   ]
  },
  {
   "cell_type": "code",
   "execution_count": 25,
   "id": "eccc33cb",
   "metadata": {},
   "outputs": [
    {
     "name": "stdout",
     "output_type": "stream",
     "text": [
      "Mean Squared Error: 46.144775347317264\n"
     ]
    }
   ],
   "source": [
    "mse = mean_squared_error(y_test, y_pred)\n",
    "print(f'Mean Squared Error: {mse}')\n"
   ]
  },
  {
   "cell_type": "markdown",
   "id": "ef91598b",
   "metadata": {},
   "source": [
    "<h4>plt.scatter(X_test, y_test, ...):</h4> Plots actual house prices as blue dots against the number of rooms.\n",
    "<h4>plt.plot(X_test, y_pred, ...):</h4> Plots predicted house prices as a red line based on the number of rooms.\n",
    "<h4>plt.xlabel, plt.ylabel, plt.title:</h4> Sets labels and title for the plot.\n",
    "<h4>plt.legend:</h4> Displays a legend to distinguish between actual data points and the regression line.\n",
    "<h4>plt.show():</h4> Displays the plot with all specified elements.\n",
    "This plot provides a visual representation of how well the linear regression model predicts house prices based on the number of rooms."
   ]
  },
  {
   "cell_type": "code",
   "execution_count": 26,
   "id": "9ef51929",
   "metadata": {},
   "outputs": [
    {
     "data": {
      "image/png": "[encoded data removed]",
      "text/plain": [
       "<Figure size 640x480 with 1 Axes>"
      ]
     },
     "metadata": {},
     "output_type": "display_data"
    }
   ],
   "source": [
    "plt.scatter(X_test, y_test, color='blue', label='Actual prices')\n",
    "plt.plot(X_test, y_pred, color='red', linewidth=2, label='Regression line')\n",
    "plt.xlabel('Number of rooms (RM)')\n",
    "plt.ylabel('House Price')\n",
    "plt.title('Linear Regression: Number of Rooms vs House Price')\n",
    "plt.legend()\n",
    "plt.show()"
   ]
  }
 ],
 "metadata": {
  "kernelspec": {
   "display_name": "Python 3 (ipykernel)",
   "language": "python",
   "name": "python3"
  },
  "language_info": {
   "codemirror_mode": {
    "name": "ipython",
    "version": 3
   },
   "file_extension": ".py",
   "mimetype": "text/x-python",
   "name": "python",
   "nbconvert_exporter": "python",
   "pygments_lexer": "ipython3",
   "version": "3.11.3"
  }
 },
 "nbformat": 4,
 "nbformat_minor": 5
}
