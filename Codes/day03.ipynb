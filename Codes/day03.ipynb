{
 "cells": [
  {
   "cell_type": "markdown",
   "id": "4216f45c",
   "metadata": {},
   "source": [
    " Recursive Factorial<br>\n",
    "   - Write a recursive function to calculate the factorial<br> of a given number.<br>\n",
    "   - Expected output: If the input is 5, the output should <br>be \"The factorial of 5 is 120.\"\n"
   ]
  },
  {
   "cell_type": "code",
   "execution_count": 2,
   "id": "ab6a3805",
   "metadata": {},
   "outputs": [
    {
     "data": {
      "text/plain": [
       "120"
      ]
     },
     "execution_count": 2,
     "metadata": {},
     "output_type": "execute_result"
    }
   ],
   "source": [
    "def factorial(n):\n",
    "    if n == 0:\n",
    "        print(\"Enter a positive Number!\")\n",
    "    elif n == 1:\n",
    "        return 1\n",
    "    else:\n",
    "        return n * factorial(n -1)\n",
    "    \n",
    "factorial(5)"
   ]
  },
  {
   "cell_type": "markdown",
   "id": "31e465d1",
   "metadata": {},
   "source": [
    ". Palindrome Linked List<br>\n",
    "   - Write a program to determine if a given linked list is a palindrome.<br>\n",
    "   - Expected output: If the linked list is `1 -> 2 -> 3 -> 2 -> 1`,<br> the output should be \"The linked list is a palindrome.\" If the linked list is `1 -> 2 -> 3 -> 4 -> 5`,<br> the output should be \"The linked list is not a palindrome.\"\n"
   ]
  },
  {
   "cell_type": "code",
   "execution_count": 14,
   "id": "9e756e8e",
   "metadata": {},
   "outputs": [
    {
     "name": "stdout",
     "output_type": "stream",
     "text": [
      "[1]\n",
      "[1, 2]\n",
      "[1, 2, 3]\n",
      "[1, 2, 3, 2]\n",
      "[1, 2, 3, 2, 1]\n",
      "the link list is a palindrome\n",
      "[1, 2, 3, 2, 1]\n"
     ]
    }
   ],
   "source": [
    "linklist = [1,2,3,2,1]\n",
    "new_link_list = []\n",
    "for i in range(len(linklist) - 1, -1 , -1):\n",
    "    new_link_list.append(linklist[i])\n",
    "    print(new_link_list)\n",
    "if new_link_list  ==  linklist:\n",
    "    print(\"the link list is a palindrome\")\n",
    "else:\n",
    "    print(\"the link list is not palindrome\")\n",
    "print(new_link_list)"
   ]
  },
  {
   "cell_type": "code",
   "execution_count": 15,
   "id": "86c92f54",
   "metadata": {},
   "outputs": [
    {
     "name": "stdout",
     "output_type": "stream",
     "text": [
      "[5]\n",
      "[5, 4]\n",
      "[5, 4, 3]\n",
      "[5, 4, 3, 2]\n",
      "[5, 4, 3, 2, 1]\n",
      "the link list is not palindrome\n"
     ]
    }
   ],
   "source": [
    "linklist = [1,2,3,4,5]\n",
    "new_link_list = []\n",
    "for i in range(len(linklist) - 1, -1 , -1):\n",
    "    new_link_list.append(linklist[i])\n",
    "    print(new_link_list)\n",
    "if new_link_list  ==  linklist:\n",
    "    print(\"the link list is a palindrome\")\n",
    "else:\n",
    "    print(\"the link list is not palindrome\")"
   ]
  },
  {
   "cell_type": "markdown",
   "id": "d24ba685",
   "metadata": {},
   "source": [
    " Merge Sorted Arrays<br>\n",
    "   - Write a function that takes two sorted arrays and merges them into a single sorted array.<br>\n",
    "   - Expected output: If the two input arrays are `[1, 3, 5]` and `[2, 4, 6]`,<br> the output should be `[1, 2, 3, 4, 5, 6]`.\n"
   ]
  },
  {
   "cell_type": "code",
   "execution_count": 19,
   "id": "6dabe4ac",
   "metadata": {},
   "outputs": [
    {
     "name": "stdout",
     "output_type": "stream",
     "text": [
      "[1, 2, 2, 3, 4, 5, 6, 7, 8, 10, 16]\n"
     ]
    }
   ],
   "source": [
    "array1 = [1,2,3,4 ,10]\n",
    "array2 = [5,6,7,8, 2,16]\n",
    "\n",
    "array3 = sorted(array2+array1)\n",
    "print(array3)"
   ]
  },
  {
   "cell_type": "markdown",
   "id": "3b2b7aaf",
   "metadata": {},
   "source": [
    "\n",
    "4. Binary Search Tree<br>\n",
    "   - Implement a Binary Search Tree (BST) data <br>structure, including methods for insertion, <br>deletion, and search.<br>\n",
    "   - Expected output: The program should be able to <br>perform various BST operations and print the <br>results.\n"
   ]
  },
  {
   "cell_type": "code",
   "execution_count": 2,
   "id": "8f517cb4",
   "metadata": {},
   "outputs": [
    {
     "name": "stdout",
     "output_type": "stream",
     "text": [
      "Inorder traversal of the BST: [20, 30, 40, 50, 60, 70, 80]\n",
      "Searching for 40 in the BST: Found\n",
      "Searching for 90 in the BST: Not Found\n",
      "Inorder traversal after deleting 20: [30, 40, 50, 60, 70, 80]\n",
      "Inorder traversal after deleting 30: [40, 50, 60, 70, 80]\n",
      "Inorder traversal after deleting 50: [40, 60, 70, 80]\n"
     ]
    }
   ],
   "source": [
    "class TreeNode:\n",
    "    def __init__(self, key):\n",
    "        self.left = None\n",
    "        self.right = None\n",
    "        self.val = key\n",
    "\n",
    "class BST:\n",
    "    def __init__(self):\n",
    "        self.root = None\n",
    "\n",
    "    def insert(self, key):\n",
    "        if self.root is None:\n",
    "            self.root = TreeNode(key)\n",
    "        else:\n",
    "            self._insert(self.root, key)\n",
    "\n",
    "    def _insert(self, node, key):\n",
    "        if key < node.val:\n",
    "            if node.left is None:\n",
    "                node.left = TreeNode(key)\n",
    "            else:\n",
    "                self._insert(node.left, key)\n",
    "        else:\n",
    "            if node.right is None:\n",
    "                node.right = TreeNode(key)\n",
    "            else:\n",
    "                self._insert(node.right, key)\n",
    "\n",
    "    def delete(self, key):\n",
    "        self.root = self._delete(self.root, key)\n",
    "\n",
    "    def _delete(self, node, key):\n",
    "        if node is None:\n",
    "            return node\n",
    "\n",
    "        if key < node.val:\n",
    "            node.left = self._delete(node.left, key)\n",
    "        elif key > node.val:\n",
    "            node.right = self._delete(node.right, key)\n",
    "        else:\n",
    "            if node.left is None:\n",
    "                return node.right\n",
    "            elif node.right is None:\n",
    "                return node.left\n",
    "\n",
    "            temp = self._min_value_node(node.right)\n",
    "            node.val = temp.val\n",
    "            node.right = self._delete(node.right, temp.val)\n",
    "\n",
    "        return node\n",
    "\n",
    "    def _min_value_node(self, node):\n",
    "        current = node\n",
    "        while current.left is not None:\n",
    "            current = current.left\n",
    "        return current\n",
    "\n",
    "    def search(self, key):\n",
    "        return self._search(self.root, key)\n",
    "\n",
    "    def _search(self, node, key):\n",
    "        if node is None or node.val == key:\n",
    "            return node\n",
    "        if key < node.val:\n",
    "            return self._search(node.left, key)\n",
    "        return self._search(node.right, key)\n",
    "\n",
    "    def inorder(self):\n",
    "        return self._inorder(self.root, [])\n",
    "\n",
    "    def _inorder(self, node, nodes):\n",
    "        if node:\n",
    "            self._inorder(node.left, nodes)\n",
    "            nodes.append(node.val)\n",
    "            self._inorder(node.right, nodes)\n",
    "        return nodes\n",
    "\n",
    "# Testing the BST\n",
    "bst = BST()\n",
    "bst.insert(50)\n",
    "bst.insert(30)\n",
    "bst.insert(20)\n",
    "bst.insert(40)\n",
    "bst.insert(70)\n",
    "bst.insert(60)\n",
    "bst.insert(80)\n",
    "\n",
    "print(\"Inorder traversal of the BST:\", bst.inorder())\n",
    "\n",
    "print(\"Searching for 40 in the BST:\", \"Found\" if bst.search(40) else \"Not Found\")\n",
    "print(\"Searching for 90 in the BST:\", \"Found\" if bst.search(90) else \"Not Found\")\n",
    "\n",
    "bst.delete(20)\n",
    "print(\"Inorder traversal after deleting 20:\", bst.inorder())\n",
    "\n",
    "bst.delete(30)\n",
    "print(\"Inorder traversal after deleting 30:\", bst.inorder())\n",
    "\n",
    "bst.delete(50)\n",
    "print(\"Inorder traversal after deleting 50:\", bst.inorder())\n"
   ]
  },
  {
   "cell_type": "markdown",
   "id": "5a1c8358",
   "metadata": {},
   "source": [
    " Longest Palindromic Substring<br>\n",
    "   - Write a program to find the longest palindromic <br>substring within a given string.<br>\n",
    "   - Expected output: If the input string is \"babad\", the <br>output should be \"bab\" or \"aba\". If the input string <br>is \"cbbd\", the output should be \"bb\".\n"
   ]
  },
  {
   "cell_type": "code",
   "execution_count": 4,
   "id": "570f8c6e",
   "metadata": {},
   "outputs": [
    {
     "name": "stdout",
     "output_type": "stream",
     "text": [
      "bab\n",
      "bb\n"
     ]
    }
   ],
   "source": [
    "def longest_palindromic_substring(s):\n",
    "    def expand_around_center(left, right):\n",
    "        while left >= 0 and right < len(s) and s[left] == s[right]:\n",
    "            left -= 1\n",
    "            right += 1\n",
    "        return s[left + 1:right]\n",
    "\n",
    "    if not s or len(s) == 1:\n",
    "        return s\n",
    "\n",
    "    longest = \"\"\n",
    "    for i in range(len(s)):\n",
    "       \n",
    "        odd_palindrome = expand_around_center(i, i)\n",
    "        if len(odd_palindrome) > len(longest):\n",
    "            longest = odd_palindrome\n",
    "\n",
    "        \n",
    "        even_palindrome = expand_around_center(i, i + 1)\n",
    "        if len(even_palindrome) > len(longest):\n",
    "            longest = even_palindrome\n",
    "\n",
    "    return longest\n",
    "\n",
    "print(longest_palindromic_substring(\"babad\")) \n",
    "print(longest_palindromic_substring(\"cbbd\"))   "
   ]
  },
  {
   "cell_type": "markdown",
   "id": "4880b131",
   "metadata": {},
   "source": [
    " Merge Intervals<br>\n",
    "   - Write a program to merge overlapping intervals <br>in a list of intervals.\n",
    "   - Expected output: If the input is `[(1, 3), (2, 6), (8, 10), (15, 18)]`,<br> the output should be `[(1, 6), (8, 10), (15, 18)]`.\n"
   ]
  },
  {
   "cell_type": "code",
   "execution_count": 5,
   "id": "3bcf78d1",
   "metadata": {},
   "outputs": [
    {
     "name": "stdout",
     "output_type": "stream",
     "text": [
      "[(1, 6), (8, 10), (15, 18)]\n"
     ]
    }
   ],
   "source": [
    "def merge_intervals(intervals):\n",
    "    if not intervals:\n",
    "        return []\n",
    "\n",
    "    \n",
    "    intervals.sort(key=lambda x: x[0])\n",
    "\n",
    "    merged = [intervals[0]]\n",
    "    for current in intervals[1:]:\n",
    "        last_merged = merged[-1]\n",
    "        \n",
    "       \n",
    "        if current[0] <= last_merged[1]:\n",
    "            merged[-1] = (last_merged[0], max(last_merged[1], current[1]))\n",
    "        else:\n",
    "            merged.append(current)\n",
    "\n",
    "    return merged\n",
    "\n",
    "\n",
    "intervals = [(1, 3), (2, 6), (8, 10), (15, 18)]\n",
    "merged_intervals = merge_intervals(intervals)\n",
    "print(merged_intervals)"
   ]
  },
  {
   "cell_type": "markdown",
   "id": "bbb45720",
   "metadata": {},
   "source": [
    ". Maximum Subarray<br>\n",
    "   - Write a program to find the maximum sum of a contiguous<br> subarray within a given array.\n",
    "   - Expected output: If the input array is `[-2, 1, -3, 4, -1, 2, 1, -5, 4]`,<br> the output should be `6`, as the maximum subarray is `[4, -1, 2, 1]`.\n"
   ]
  },
  {
   "cell_type": "code",
   "execution_count": 7,
   "id": "a8d09865",
   "metadata": {},
   "outputs": [
    {
     "name": "stdout",
     "output_type": "stream",
     "text": [
      "6\n"
     ]
    }
   ],
   "source": [
    "def max_subarray_sum(nums):\n",
    "    if not nums:\n",
    "        return 0\n",
    "\n",
    "    \n",
    "    current_sum = max_sum = nums[0]\n",
    "\n",
    "   \n",
    "    for num in nums[1:]:\n",
    "       \n",
    "        current_sum = max(num, current_sum + num)\n",
    "       \n",
    "        max_sum = max(max_sum, current_sum)\n",
    "\n",
    "    return max_sum\n",
    "\n",
    "\n",
    "nums = [-2, 1, -3, 4, -1, 2, 1, -5, 4]\n",
    "max_sum = max_subarray_sum(nums)\n",
    "print(max_sum)"
   ]
  },
  {
   "cell_type": "code",
   "execution_count": 8,
   "id": "e16c8752",
   "metadata": {},
   "outputs": [
    {
     "name": "stdout",
     "output_type": "stream",
     "text": [
      "6\n"
     ]
    }
   ],
   "source": [
    "def max_sum(nums):\n",
    "    if not nums:\n",
    "        return 0\n",
    "    tatal_sum = max_sum = nums[0]\n",
    "    for num in nums:\n",
    "        total_sum = max(max_sum + nums[i])\n",
    "        max_sum = max(max_sum , total_sum)\n",
    "    return max_sum\n",
    "\n",
    "nums = [-2, 1, -3, 4, -1, 2, 1, -5, 4]\n",
    "max_sum = max_subarray_sum(nums)\n",
    "print(max_sum)"
   ]
  },
  {
   "cell_type": "markdown",
   "id": "3485f519",
   "metadata": {},
   "source": [
    " Reverse Linked List\n",
    "   - Write a program to reverse a singly-linked list.<br>\n",
    "   - Expected output: If the input linked list is `1 -> 2 -> 3 -> 4 -> 5`,<br> the output should be `5 -> 4 -> 3 -> 2 -> 1`.\n"
   ]
  },
  {
   "cell_type": "code",
   "execution_count": 9,
   "id": "ae070af5",
   "metadata": {},
   "outputs": [
    {
     "name": "stdout",
     "output_type": "stream",
     "text": [
      "Original linked list:\n",
      "1 -> 2 -> 3 -> 4 -> 5\n",
      "Reversed linked list:\n",
      "5 -> 4 -> 3 -> 2 -> 1\n"
     ]
    }
   ],
   "source": [
    "class ListNode:\n",
    "    def __init__(self, value=0, next=None):\n",
    "        self.value = value\n",
    "        self.next = next\n",
    "\n",
    "def reverse_linked_list(head):\n",
    "    prev = None\n",
    "    current = head\n",
    "    \n",
    "    while current:\n",
    "        next_node = current.next \n",
    "        current.next = prev  \n",
    "        prev = current \n",
    "        current = next_node  \n",
    "    \n",
    "    return prev\n",
    "\n",
    "\n",
    "def print_linked_list(head):\n",
    "    current = head\n",
    "    while current:\n",
    "        print(current.value, end=\" -> \" if current.next else \"\\n\")\n",
    "        current = current.next\n",
    "\n",
    "\n",
    "# Create linked list: 1 -> 2 -> 3 -> 4 -> 5\n",
    "head = ListNode(1)\n",
    "head.next = ListNode(2)\n",
    "head.next.next = ListNode(3)\n",
    "head.next.next.next = ListNode(4)\n",
    "head.next.next.next.next = ListNode(5)\n",
    "\n",
    "print(\"Original linked list:\")\n",
    "print_linked_list(head)\n",
    "\n",
    "\n",
    "reversed_head = reverse_linked_list(head)\n",
    "\n",
    "print(\"Reversed linked list:\")\n",
    "print_linked_list(reversed_head)\n"
   ]
  },
  {
   "cell_type": "markdown",
   "id": "8e2e0b58",
   "metadata": {},
   "source": [
    "Minimum Edit Distance\n",
    "   - Write a program to calculate the minimum number of <br>operations (insertions, deletions, or substitutions)<br> required to transform one string into another.<br>\n",
    "   - Expected output: If the two input strings are <br>\"kitten\" and \"sitting\", the output should be `3`.\n"
   ]
  },
  {
   "cell_type": "code",
   "execution_count": 12,
   "id": "bac67438",
   "metadata": {},
   "outputs": [
    {
     "name": "stdout",
     "output_type": "stream",
     "text": [
      "3\n"
     ]
    }
   ],
   "source": [
    "def min_edit_distance(str1,str2):\n",
    "    m , n = len(str1) , len(str2)\n",
    "    \n",
    "    dp = [[0] * (n + 1)  for _ in range(m + 1)]\n",
    "    for i in range(m + 1):\n",
    "        dp[i][0] = i\n",
    "    for j in range(n + 1):\n",
    "        dp[0][i] = j\n",
    "    for i in range(1, m + 1):\n",
    "        for j in range(1, n + 1):\n",
    "            if str1[i - 1] == str2[j - 1]:\n",
    "                dp[i][j] = dp[i - 1][j - 1]\n",
    "            else:\n",
    "                dp[i][j] = 1 + min(dp[i - 1][j],    \n",
    "                                   dp[i][j - 1],    \n",
    "                                   dp[i - 1][j - 1]) \n",
    "    return dp[m][n]\n",
    "\n",
    "\n",
    "\n",
    "str1 = 'kitten'\n",
    "str2 = 'sitting'\n",
    "\n",
    "distance = min_edit_distance(str1,str2)\n",
    "\n",
    "print(distance)"
   ]
  },
  {
   "cell_type": "markdown",
   "id": "42079b8b",
   "metadata": {},
   "source": [
    "Boggle Game\n",
    "    - Implement a program that solves the Boggle game, given a board and a list of words.<br>\n",
    "    - Expected output: The program should print all the words found in the<br> Boggle board.\n"
   ]
  },
  {
   "cell_type": "code",
   "execution_count": 16,
   "id": "458f980a",
   "metadata": {},
   "outputs": [
    {
     "name": "stdout",
     "output_type": "stream",
     "text": [
      "Words found in the Boggle board: {'HAT', 'FAT', 'WATS', 'THAT', 'THIS'}\n"
     ]
    }
   ],
   "source": [
    "class Boggle:\n",
    "    def __init__(self, board, words):\n",
    "        self.board = board\n",
    "        self.words = set(words)\n",
    "        self.found_words = set()\n",
    "        self.rows = len(board)\n",
    "        self.cols = len(board[0])\n",
    "        self.visited = [[False for _ in range(self.cols)] for _ in range(self.rows)]\n",
    "\n",
    "    def is_valid(self, x, y):\n",
    "        return 0 <= x < self.rows and 0 <= y < self.cols and not self.visited[x][y]\n",
    "\n",
    "    def dfs(self, x, y, current_word):\n",
    "        # If the current word is in the list, add it to the found words\n",
    "        if current_word in self.words:\n",
    "            self.found_words.add(current_word)\n",
    "        \n",
    "        # Explore the 8 adjacent cells\n",
    "        for dx, dy in [(-1, -1), (-1, 0), (-1, 1), (0, -1), (0, 1), (1, -1), (1, 0), (1, 1)]:\n",
    "            nx, ny = x + dx, y + dy\n",
    "            if self.is_valid(nx, ny):\n",
    "                self.visited[nx][ny] = True\n",
    "                self.dfs(nx, ny, current_word + self.board[nx][ny])\n",
    "                self.visited[nx][ny] = False\n",
    "\n",
    "    def find_words(self):\n",
    "        for i in range(self.rows):\n",
    "            for j in range(self.cols):\n",
    "                self.visited[i][j] = True\n",
    "                self.dfs(i, j, self.board[i][j])\n",
    "                self.visited[i][j] = False\n",
    "\n",
    "        return self.found_words\n",
    "\n",
    "# Example usage\n",
    "board = [\n",
    "    ['T', 'H', 'I', 'S'],\n",
    "    ['W', 'A', 'T', 'S'],\n",
    "    ['O', 'A', 'H', 'G'],\n",
    "    ['F', 'G', 'D', 'T']\n",
    "]\n",
    "words = [\"THIS\", \"THAT\", \"THOSE\", \"WATS\", \"HAT\", \"FAT\", \"GOD\", \"DOG\", \"CAT\"]\n",
    "\n",
    "boggle = Boggle(board, words)\n",
    "found_words = boggle.find_words()\n",
    "print(\"Words found in the Boggle board:\", found_words)"
   ]
  },
  {
   "cell_type": "code",
   "execution_count": null,
   "id": "aad3ed95",
   "metadata": {},
   "outputs": [],
   "source": [
    "class Boggle:\n",
    "    def __init__(self, board, words):\n",
    "        self.board = board\n",
    "        self.words = set(words)\n",
    "        self.found_words = set()\n",
    "        self.rows = len(board)\n",
    "        self.cols = len(board[0])\n",
    "        self.visited = [[False for _ in range(self.cols)] for _ in range(self.rows)]\n",
    "\n",
    "    def is_valid(self, x, y):\n",
    "        return 0 <= x < self.rows and 0 <= y < self.cols and not self.visited[x][y]\n",
    "\n",
    "    def dfs(self, x, y, current_word):\n",
    "        # If the current word is in the list, add it to the found words\n",
    "        if current_word in self.words:\n",
    "            self.found_words.add(current_word)\n",
    "        \n",
    "        # Explore the 8 adjacent cells\n",
    "        for dx, dy in [(-1, -1), (-1, 0), (-1, 1), (0, -1), (0, 1), (1, -1), (1, 0), (1, 1)]:\n",
    "            nx, ny = x + dx, y + dy\n",
    "            if self.is_valid(nx, ny):\n",
    "                self.visited[nx][ny] = True\n",
    "                self.dfs(nx, ny, current_word + self.board[nx][ny])\n",
    "                self.visited[nx][ny] = False\n",
    "\n",
    "    def find_words(self):\n",
    "        for i in range(self.rows):\n",
    "            for j in range(self.cols):\n",
    "                self.visited[i][j] = True\n",
    "                self.dfs(i, j, self.board[i][j])\n",
    "                self.visited[i][j] = False\n",
    "\n",
    "        return self.found_words\n",
    "\n",
    "# Example usage\n",
    "board = [\n",
    "    ['T', 'H', 'I', 'S'],\n",
    "    ['W', 'A', 'T', 'S'],\n",
    "    ['O', 'A', 'H', 'G'],\n",
    "    ['F', 'G', 'D', 'T']\n",
    "]\n",
    "words = [\"THIS\", \"THAT\", \"THOSE\", \"WATS\", \"HAT\", \"FAT\", \"GOD\", \"DOG\", \"CAT\"]\n",
    "\n",
    "boggle = Boggle(board, words)\n",
    "found_words = boggle.find_words()\n",
    "print(\"Words found in the Boggle board:\", found_words)"
   ]
  },
  {
   "cell_type": "code",
   "execution_count": null,
   "id": "c88ca816",
   "metadata": {},
   "outputs": [],
   "source": []
  }
 ],
 "metadata": {
  "kernelspec": {
   "display_name": "Python 3 (ipykernel)",
   "language": "python",
   "name": "python3"
  },
  "language_info": {
   "codemirror_mode": {
    "name": "ipython",
    "version": 3
   },
   "file_extension": ".py",
   "mimetype": "text/x-python",
   "name": "python",
   "nbconvert_exporter": "python",
   "pygments_lexer": "ipython3",
   "version": "3.11.3"
  }
 },
 "nbformat": 4,
 "nbformat_minor": 5
}
