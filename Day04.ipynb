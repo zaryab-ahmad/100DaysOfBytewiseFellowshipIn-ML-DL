{
 "cells": [
  {
   "cell_type": "markdown",
   "id": "be46b6b8",
   "metadata": {},
   "source": [
    "QuickSort Algorithm<br>\n",
    "Write a program to implement the QuickSort algorithm.<br>\n",
    "Expected Output: If the input array is [3, 6, 8, 10, 1, 2, 1],<br> the output should be [1, 1, 2, 3, 6, 8, 10].\n"
   ]
  },
  {
   "cell_type": "code",
   "execution_count": 1,
   "id": "08237f93",
   "metadata": {},
   "outputs": [
    {
     "name": "stdout",
     "output_type": "stream",
     "text": [
      "Sorted array: [1, 1, 2, 3, 6, 8, 10]\n"
     ]
    }
   ],
   "source": [
    "def quicksort_inplace(arr, low, high):\n",
    "    if low < high:\n",
    "        pi = partition(arr, low, high)\n",
    "        quicksort_inplace(arr, low, pi - 1)\n",
    "        quicksort_inplace(arr, pi + 1, high)\n",
    "\n",
    "def partition(arr, low, high):\n",
    "    pivot = arr[high]\n",
    "    i = low - 1\n",
    "    for j in range(low, high):\n",
    "        if arr[j] <= pivot:\n",
    "            i += 1\n",
    "            arr[i], arr[j] = arr[j], arr[i]\n",
    "    arr[i + 1], arr[high] = arr[high], arr[i + 1]\n",
    "    return i + 1\n",
    "\n",
    "# Example usage\n",
    "arr = [3, 6, 8, 10, 1, 2, 1]\n",
    "quicksort_inplace(arr, 0, len(arr) - 1)\n",
    "print(\"Sorted array:\", arr)"
   ]
  },
  {
   "cell_type": "markdown",
   "id": "6a18968f",
   "metadata": {},
   "source": [
    "# Knapsack Problem\n",
    "Write a program to solve the 0/1 Knapsack Problem using dynamic programming.<br>\n",
    "Expected Output: If the input weights are [1, 3, 4, 5], values are [1, 4, 5, 7], and the maximum capacity is 7, the output should be 9.<br>\n"
   ]
  },
  {
   "cell_type": "code",
   "execution_count": 2,
   "id": "02cb50a4",
   "metadata": {},
   "outputs": [
    {
     "name": "stdout",
     "output_type": "stream",
     "text": [
      "Maximum value in knapsack: 9\n"
     ]
    }
   ],
   "source": [
    "def knapsack(values, weights, max_capacity):\n",
    "    n = len(values)\n",
    "    \n",
    "    \n",
    "    dp = [[0 for _ in range(max_capacity + 1)] for _ in range(n + 1)]\n",
    "\n",
    "    \n",
    "    for i in range(1, n + 1):\n",
    "        for w in range(1, max_capacity + 1):\n",
    "            if weights[i-1] <= w:\n",
    "                dp[i][w] = max(values[i-1] + dp[i-1][w-weights[i-1]], dp[i-1][w])\n",
    "            else:\n",
    "                dp[i][w] = dp[i-1][w]\n",
    "\n",
    "    return dp[n][max_capacity]\n",
    "\n",
    "\n",
    "values = [1, 4, 5, 7]\n",
    "weights = [1, 3, 4, 5]\n",
    "max_capacity = 7\n",
    "max_value = knapsack(values, weights, max_capacity)\n",
    "print(\"Maximum value in knapsack:\", max_value)"
   ]
  },
  {
   "cell_type": "markdown",
   "id": "1b16a861",
   "metadata": {},
   "source": [
    "# Graph Traversal (BFS and DFS)\n",
    "Implement Breadth-First Search (BFS) and Depth-First Search (DFS) for graph traversal.<br>\n",
    "Expected Output: If the input graph is {0: [1, 2], 1: [2], 2: [0, 3], 3: [3]},<br> the BFS starting from node 2 should return [2, 0, 3, 1], and the DFS starting from node 2 should return [2, 0, 1, 3]."
   ]
  },
  {
   "cell_type": "code",
   "execution_count": 4,
   "id": "360b8e84",
   "metadata": {},
   "outputs": [
    {
     "name": "stdout",
     "output_type": "stream",
     "text": [
      "Graph adjacency list:\n",
      "0: [1, 2]\n",
      "1: [2]\n",
      "2: [0, 3]\n",
      "3: [3]\n",
      "\n",
      "Breadth-First Search (BFS) Traversal starting from vertex 2\n",
      "Traversal order: [2, 0, 3, 1]\n",
      "\n",
      "Depth-First Search (DFS) Traversal starting from vertex 2\n",
      "Traversal order: [2, 0, 1, 3]\n"
     ]
    }
   ],
   "source": [
    "from collections import defaultdict, deque\n",
    "\n",
    "def bfs(graph, start):\n",
    "    visited = set()\n",
    "    queue = deque([start])\n",
    "    traversal_order = []\n",
    "\n",
    "    while queue:\n",
    "        vertex = queue.popleft()\n",
    "        if vertex not in visited:\n",
    "            visited.add(vertex)\n",
    "            traversal_order.append(vertex)\n",
    "            for neighbor in graph[vertex]:\n",
    "                if neighbor not in visited:\n",
    "                    queue.append(neighbor)\n",
    "\n",
    "    return traversal_order\n",
    "\n",
    "def dfs(graph, start):\n",
    "    visited = set()\n",
    "    traversal_order = []\n",
    "\n",
    "    def dfs_recursive(vertex):\n",
    "        visited.add(vertex)\n",
    "        traversal_order.append(vertex)\n",
    "        for neighbor in graph[vertex]:\n",
    "            if neighbor not in visited:\n",
    "                dfs_recursive(neighbor)\n",
    "\n",
    "    dfs_recursive(start)\n",
    "    return traversal_order\n",
    "\n",
    "# Example usage\n",
    "graph = {\n",
    "    0: [1, 2],\n",
    "    1: [2],\n",
    "    2: [0, 3],\n",
    "    3: [3]\n",
    "}\n",
    "\n",
    "start_vertex = 2\n",
    "\n",
    "print(\"Graph adjacency list:\")\n",
    "for vertex, neighbors in graph.items():\n",
    "    print(f\"{vertex}: {neighbors}\")\n",
    "\n",
    "print(\"\\nBreadth-First Search (BFS) Traversal starting from vertex\", start_vertex)\n",
    "bfs_order = bfs(graph, start_vertex)\n",
    "print(\"Traversal order:\", bfs_order)\n",
    "\n",
    "print(\"\\nDepth-First Search (DFS) Traversal starting from vertex\", start_vertex)\n",
    "dfs_order = dfs(graph, start_vertex)\n",
    "print(\"Traversal order:\", dfs_order)\n"
   ]
  },
  {
   "cell_type": "markdown",
   "id": "1ce7cbc6",
   "metadata": {},
   "source": [
    "### Dijkstra's Algorithm\n",
    "Write a program to implement Dijkstra's algorithm for finding the shortest path in a graph.<br>\n",
    "Expected Output: If the input graph is {'A': {'B': 1, 'C': 4},<br> 'B': {'C': 2, 'D': 5}, 'C': {'D': 1}, 'D': {}} and the starting node is A, the output should be {'A': 0, 'B': 1, 'C': 3, 'D': 4}.\n"
   ]
  },
  {
   "cell_type": "code",
   "execution_count": 5,
   "id": "581e8aca",
   "metadata": {},
   "outputs": [
    {
     "name": "stdout",
     "output_type": "stream",
     "text": [
      "{'A': 0, 'B': 1, 'C': 3, 'D': 4}\n"
     ]
    }
   ],
   "source": [
    "import heapq\n",
    "\n",
    "def dijkstra(graph, start):\n",
    "    # Initialize distances dictionary with infinity for all nodes except the start node\n",
    "    distances = {node: float('inf') for node in graph}\n",
    "    distances[start] = 0\n",
    "    \n",
    "    # Priority queue to store tuples of (distance, node)\n",
    "    priority_queue = [(0, start)]\n",
    "    \n",
    "    while priority_queue:\n",
    "        current_distance, current_node = heapq.heappop(priority_queue)\n",
    "        \n",
    "        # If current distance is greater than already known distance, skip\n",
    "        if current_distance > distances[current_node]:\n",
    "            continue\n",
    "        \n",
    "        for neighbor, weight in graph[current_node].items():\n",
    "            distance = current_distance + weight\n",
    "            \n",
    "            # If found a shorter path to neighbor node, update distance and push to priority queue\n",
    "            if distance < distances[neighbor]:\n",
    "                distances[neighbor] = distance\n",
    "                heapq.heappush(priority_queue, (distance, neighbor))\n",
    "    \n",
    "    return distances\n",
    "\n",
    "# Example usage:\n",
    "if __name__ == \"__main__\":\n",
    "    graph = {\n",
    "        'A': {'B': 1, 'C': 4},\n",
    "        'B': {'C': 2, 'D': 5},\n",
    "        'C': {'D': 1},\n",
    "        'D': {}\n",
    "    }\n",
    "    start_node = 'A'\n",
    "    shortest_distances = dijkstra(graph, start_node)\n",
    "    print(shortest_distances)"
   ]
  },
  {
   "cell_type": "markdown",
   "id": "77ea7984",
   "metadata": {},
   "source": [
    "### Longest Common Subsequence (LCS)\n",
    "Write a program to find the longest common subsequence between two strings.<br>\n",
    "Expected Output: If the input strings are AGGTAB and GXTXAYB, the output should be GTAB."
   ]
  },
  {
   "cell_type": "code",
   "execution_count": 6,
   "id": "c6df9d1b",
   "metadata": {},
   "outputs": [
    {
     "name": "stdout",
     "output_type": "stream",
     "text": [
      "GTAB\n"
     ]
    }
   ],
   "source": [
    "def longest_common_subsequence(s1, s2):\n",
    "    m = len(s1)\n",
    "    n = len(s2)\n",
    "    \n",
    "    # Initialize a 2D list to store the lengths of LCS\n",
    "    dp = [[0] * (n + 1) for _ in range(m + 1)]\n",
    "    \n",
    "    # Build the dp table\n",
    "    for i in range(1, m + 1):\n",
    "        for j in range(1, n + 1):\n",
    "            if s1[i - 1] == s2[j - 1]:\n",
    "                dp[i][j] = dp[i - 1][j - 1] + 1\n",
    "            else:\n",
    "                dp[i][j] = max(dp[i - 1][j], dp[i][j - 1])\n",
    "    \n",
    "    # Trace back to find the LCS\n",
    "    lcs = []\n",
    "    i, j = m, n\n",
    "    while i > 0 and j > 0:\n",
    "        if s1[i - 1] == s2[j - 1]:\n",
    "            lcs.append(s1[i - 1])\n",
    "            i -= 1\n",
    "            j -= 1\n",
    "        elif dp[i - 1][j] >= dp[i][j - 1]:\n",
    "            i -= 1\n",
    "        else:\n",
    "            j -= 1\n",
    "    \n",
    "    # Reverse the collected LCS characters\n",
    "    lcs.reverse()\n",
    "    \n",
    "    return ''.join(lcs)\n",
    "\n",
    "# Example usage:\n",
    "if __name__ == \"__main__\":\n",
    "    s1 = \"AGGTAB\"\n",
    "    s2 = \"GXTXAYB\"\n",
    "    result = longest_common_subsequence(s1, s2)\n",
    "    print(result)\n"
   ]
  },
  {
   "cell_type": "code",
   "execution_count": null,
   "id": "5746a661",
   "metadata": {},
   "outputs": [],
   "source": []
  }
 ],
 "metadata": {
  "kernelspec": {
   "display_name": "Python 3 (ipykernel)",
   "language": "python",
   "name": "python3"
  },
  "language_info": {
   "codemirror_mode": {
    "name": "ipython",
    "version": 3
   },
   "file_extension": ".py",
   "mimetype": "text/x-python",
   "name": "python",
   "nbconvert_exporter": "python",
   "pygments_lexer": "ipython3",
   "version": "3.11.3"
  }
 },
 "nbformat": 4,
 "nbformat_minor": 5
}
