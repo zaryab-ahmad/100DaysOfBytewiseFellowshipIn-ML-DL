{
 "cells": [
  {
   "cell_type": "markdown",
   "id": "11e5bf4b",
   "metadata": {},
   "source": [
    "1. Palindrome Checker (Word)<br>\n",
    "\n",
    "• Write a program to check if a given word is a palindrome<br> (reads the same forwards and backwards).\n",
    "• Expected output: If the input is \"racecar\", the output should<br> be \"racecar is a palindrome.\" If the input is \"Python\", the output should be \"Python is not a palindrome.”\n",
    "\n"
   ]
  },
  {
   "cell_type": "code",
   "execution_count": 4,
   "id": "cbb0df63",
   "metadata": {},
   "outputs": [
    {
     "name": "stdout",
     "output_type": "stream",
     "text": [
      "Enter a String:  racecar\n",
      "Enter a String:  python\n",
      "racecar :  The Input Strings is Palindrome: \n",
      "python :  The input String is not Palindrome:\n"
     ]
    }
   ],
   "source": [
    "def is_palindrome(s):\n",
    "    unrevers = s\n",
    "    revers = ''\n",
    "    for i in range(len(s) - 1,-1 ,-1):\n",
    "        revers = revers + s[i]\n",
    "    if revers  == unrevers:\n",
    "        print(s ,\":  The Input Strings is Palindrome: \")\n",
    "    else:\n",
    "        print(s , \":  The input String is not Palindrome:\")\n",
    "\n",
    "string1 = input(\"Enter a String:  \")\n",
    "string2 = input(\"Enter a String:  \")\n",
    "\n",
    "is_palindrome(string1)\n",
    "is_palindrome(string2)"
   ]
  },
  {
   "cell_type": "markdown",
   "id": "79d01dad",
   "metadata": {},
   "source": [
    " FizzBuzz<br>\n",
    "   - Write a program that prints the numbers from 1 to 100. For multiples of 3, <br>print \"Fizz\" instead of the number, and for multiples of 5, print \"Buzz\". For numbers that are multiples of both 3 and 5, print \"FizzBuzz\".\n",
    "   - Expected output:<br>\n",
    "     1<br>\n",
    "     2<br>\n",
    "     Fizz<br>\n",
    "     4<br>\n",
    "     Buzz<br>\n",
    "     Fizz<br>\n",
    "     7<br>\n",
    "     8<br><br>\n",
    "     Fizz<br>\n",
    "     Buzz<br>\n",
    "     11<br>\n",
    "     Fizz<br>\n",
    "     13<br>\n",
    "     14<br>\n",
    "     FizzBuzz<br>\n"
   ]
  },
  {
   "cell_type": "code",
   "execution_count": 9,
   "id": "9495193f",
   "metadata": {},
   "outputs": [
    {
     "name": "stdout",
     "output_type": "stream",
     "text": [
      "Fizz\n",
      "FizzBuzz\n",
      "1\n",
      "2\n",
      "Fizz\n",
      "4\n",
      "Buzz\n",
      "Fizz\n",
      "7\n",
      "8\n",
      "Fizz\n",
      "Buzz\n",
      "11\n",
      "Fizz\n",
      "13\n",
      "14\n",
      "Fizz\n",
      "FizzBuzz\n",
      "16\n",
      "17\n",
      "Fizz\n",
      "19\n",
      "Buzz\n",
      "Fizz\n",
      "22\n",
      "23\n",
      "Fizz\n",
      "Buzz\n",
      "26\n",
      "Fizz\n",
      "28\n",
      "29\n",
      "Fizz\n",
      "FizzBuzz\n",
      "31\n",
      "32\n",
      "Fizz\n",
      "34\n",
      "Buzz\n",
      "Fizz\n",
      "37\n",
      "38\n",
      "Fizz\n",
      "Buzz\n",
      "41\n",
      "Fizz\n",
      "43\n",
      "44\n",
      "Fizz\n",
      "FizzBuzz\n",
      "46\n",
      "47\n",
      "Fizz\n",
      "49\n",
      "Buzz\n",
      "Fizz\n",
      "52\n",
      "53\n",
      "Fizz\n",
      "Buzz\n",
      "56\n",
      "Fizz\n",
      "58\n",
      "59\n",
      "Fizz\n",
      "FizzBuzz\n",
      "61\n",
      "62\n",
      "Fizz\n",
      "64\n",
      "Buzz\n",
      "Fizz\n",
      "67\n",
      "68\n",
      "Fizz\n",
      "Buzz\n",
      "71\n",
      "Fizz\n",
      "73\n",
      "74\n",
      "Fizz\n",
      "FizzBuzz\n",
      "76\n",
      "77\n",
      "Fizz\n",
      "79\n",
      "Buzz\n",
      "Fizz\n",
      "82\n",
      "83\n",
      "Fizz\n",
      "Buzz\n",
      "86\n",
      "Fizz\n",
      "88\n",
      "89\n",
      "Fizz\n",
      "FizzBuzz\n",
      "91\n",
      "92\n",
      "Fizz\n",
      "94\n",
      "Buzz\n",
      "Fizz\n",
      "97\n",
      "98\n",
      "Fizz\n"
     ]
    }
   ],
   "source": [
    "for i in range(100):\n",
    "    if i % 3 == 0:\n",
    "        print(\"Fizz\")\n",
    "        if i % 5 == 0:\n",
    "            print(\"FizzBuzz\")\n",
    "        continue\n",
    "    elif i % 5 == 0:\n",
    "        print(\"Buzz\")\n",
    "        continue\n",
    "   \n",
    "    else:\n",
    "        print(i)"
   ]
  },
  {
   "cell_type": "markdown",
   "id": "ca1315c5",
   "metadata": {},
   "source": [
    "3. Nth Fibonacci Number<br>\n",
    "\n",
    "• Write a program to find the nth Fibonacci number.<br>\n",
    "• Expected output: If the input is 10, the output should be <br>\"The 10th Fibonacci number is 55.”\n",
    "\n"
   ]
  },
  {
   "cell_type": "code",
   "execution_count": 12,
   "id": "6dce250f",
   "metadata": {},
   "outputs": [
    {
     "name": "stdout",
     "output_type": "stream",
     "text": [
      "The 10th Fibonacci number is 55.\n"
     ]
    }
   ],
   "source": [
    "def fibonacci(n):\n",
    "    if n <= 0:\n",
    "        return \"Input should be a positive integer.\"\n",
    "    elif n == 1:\n",
    "        return 0\n",
    "    elif n == 2:\n",
    "        return 1\n",
    "    else:\n",
    "        a, b = 0, 1\n",
    "        for _ in range(2, n):\n",
    "            a, b = b, a + b\n",
    "        return b\n",
    "\n",
    "n = 11\n",
    "fib_number = fibonacci(n)\n",
    "print(f\"The {n-1}th Fibonacci number is {fib_number}.\")"
   ]
  },
  {
   "cell_type": "markdown",
   "id": "c6f63331",
   "metadata": {},
   "source": [
    "4. Prime Number Checker<br>\n",
    "   - Write a program to check if a given number is <br>prime.<br>\n",
    "   - Expected output: If the input is 7, the output <br>should be \"7 is a prime number.\" If the input is 10,<br> the output should be \"10 is not a prime number.\"<br>\n",
    "\n"
   ]
  },
  {
   "cell_type": "code",
   "execution_count": 22,
   "id": "1afd6fff",
   "metadata": {},
   "outputs": [
    {
     "name": "stdout",
     "output_type": "stream",
     "text": [
      "Enter any Number:  10\n",
      "10   is not a prime number\n"
     ]
    }
   ],
   "source": [
    "number =  int(input(\"Enter any Number:  \"))\n",
    "\n",
    "if number % 2 == 0 or number % 3 == 0:\n",
    "    if number == 3:\n",
    "        print(number , \"  is a prime number\")\n",
    "    else:\n",
    "        print(number , \"  is not a prime number\")\n",
    "else:\n",
    "    print(number , \"  is a prime number\")"
   ]
  },
  {
   "cell_type": "code",
   "execution_count": 23,
   "id": "3373590c",
   "metadata": {},
   "outputs": [
    {
     "name": "stdout",
     "output_type": "stream",
     "text": [
      "Enter any Number:  7\n",
      "7   is a prime number\n"
     ]
    }
   ],
   "source": [
    "number =  int(input(\"Enter any Number:  \"))\n",
    "\n",
    "if number % 2 == 0 or number % 3 == 0:\n",
    "    if number == 3:\n",
    "        print(number , \"  is a prime number\")\n",
    "    else:\n",
    "        print(number , \"  is not a prime number\")\n",
    "else:\n",
    "    print(number , \"  is a prime number\")"
   ]
  },
  {
   "cell_type": "markdown",
   "id": "9c7e86aa",
   "metadata": {},
   "source": [
    "5. Guess the Number Game<br>\n",
    "   - Write a program where the computer generates a random number,<br> and the user has to guess it.<br>\n",
    "   - Expected output: The program should prompt the user to enter a guess<br> and provide feedback on whether the guess is too high,<br> too low, or correct.\n"
   ]
  },
  {
   "cell_type": "code",
   "execution_count": 26,
   "id": "7ca65640",
   "metadata": {},
   "outputs": [
    {
     "name": "stdout",
     "output_type": "stream",
     "text": [
      "Enter a number  1 - 100  :99\n",
      "Your Guess is High!\n"
     ]
    }
   ],
   "source": [
    "import random\n",
    "guess = int(input(\"Enter a number  1 - 100  :\"))\n",
    "\n",
    "randomNumber = random.randint(1,100)\n",
    "\n",
    "if guess == randomNumber:\n",
    "    print(\"Your Guess is correct!\")\n",
    "elif guess > randomNumber:\n",
    "    print(\"Your Guess is High!\")\n",
    "elif guess < randomNumber:\n",
    "    print(\"Your Guess is to low!\")"
   ]
  },
  {
   "cell_type": "code",
   "execution_count": 28,
   "id": "e93a337d",
   "metadata": {},
   "outputs": [
    {
     "name": "stdout",
     "output_type": "stream",
     "text": [
      "Enter a number  1 - 100  :20\n",
      "Your Guess is to low!\n"
     ]
    }
   ],
   "source": [
    "import random\n",
    "guess = int(input(\"Enter a number  1 - 100  :\"))\n",
    "\n",
    "randomNumber = random.randint(1,100)\n",
    "\n",
    "if guess == randomNumber:\n",
    "    print(\"Your Guess is correct!\")\n",
    "elif guess > randomNumber:\n",
    "    print(\"Your Guess is High!\")\n",
    "elif guess < randomNumber:\n",
    "    print(\"Your Guess is to low!\")"
   ]
  },
  {
   "cell_type": "markdown",
   "id": "c981c21a",
   "metadata": {},
   "source": [
    " List Comprehension<br>\n",
    "   - Write a program that uses list comprehension to <br>create a list of squares of the first 10 integers.<br>\n",
    "   - Expected output: `[1, 4, 9, 16, 25, 36, 49, 64, 81, 100]`\n"
   ]
  },
  {
   "cell_type": "code",
   "execution_count": 30,
   "id": "f2a21e03",
   "metadata": {},
   "outputs": [
    {
     "name": "stdout",
     "output_type": "stream",
     "text": [
      "[1, 4, 9, 16, 25, 36, 49, 64, 81, 100]\n"
     ]
    }
   ],
   "source": [
    "squares = []\n",
    "\n",
    "for x in range(1,11):\n",
    "    squares.append(x ** 2)\n",
    "\n",
    "print(squares)"
   ]
  },
  {
   "cell_type": "markdown",
   "id": "477c71f5",
   "metadata": {},
   "source": [
    "7. Palindrome Sentences<br>\n",
    "   - Write a program to check if a given sentence is a <br>palindrome (reads the same forwards and backwards, <br>ignoring spaces and punctuation).<br>\n",
    "   - Expected output: If the input is \"A man, a plan, a <br>canal: Panama\", the output should be \"A man, a plan,<br> a canal: Panama is a palindrome.\" If the input is <br>\"Hello, world!\", the output should be \"Hello, world!<br> is not a palindrome.\"\n"
   ]
  },
  {
   "cell_type": "code",
   "execution_count": 32,
   "id": "63b26e75",
   "metadata": {},
   "outputs": [
    {
     "name": "stdout",
     "output_type": "stream",
     "text": [
      "True\n",
      "False\n"
     ]
    }
   ],
   "source": [
    "def is_palindrome_sentence(sentence):\n",
    "    # Remove non-alphanumeric characters and convert to lowercase\n",
    "    clean_sentence = ''.join(char.lower() for char in sentence if char.isalnum())\n",
    "    # Check if it matches its reverse\n",
    "    return clean_sentence == clean_sentence[::-1]\n",
    "\n",
    "# Test cases\n",
    "print(is_palindrome_sentence(\"A man, a plan, a canal: Panama\"))  # True\n",
    "print(is_palindrome_sentence(\"Hello, world!\"))  # False"
   ]
  },
  {
   "cell_type": "markdown",
   "id": "37e05188",
   "metadata": {},
   "source": [
    "8. Anagram Checker<br>\n",
    "   - Write a program to check if two strings are <br>anagrams (contain the same characters in a different<br> order).<br>\n",
    "   - Expected output: If the two strings are \"listen\" <br>and \"silent\", the output should be \"listen and <br>silent are anagrams.\" If the two strings are <br>\"python\" and \"java\", the output should be \"python <br>and java are not anagrams.\"\n"
   ]
  },
  {
   "cell_type": "code",
   "execution_count": 36,
   "id": "f08992d7",
   "metadata": {},
   "outputs": [
    {
     "name": "stdout",
     "output_type": "stream",
     "text": [
      "the give string are anagrams:listen ,silent\n",
      "the give strings are not anagrams: python ,java\n"
     ]
    }
   ],
   "source": [
    "def are_anagrams(str1 , str2):\n",
    "    str1 = str1.replace(\" \", \"\").lower()\n",
    "    str2 = str2.replace(\" \", \"\").lower()\n",
    "    \n",
    "    sorted_str1 = sorted(str1)\n",
    "    sorted_str2 = sorted(str2)\n",
    "    \n",
    "    if sorted_str1 == sorted_str2:\n",
    "        print(f\"the give string are anagrams:{str1} ,{str2}\")\n",
    "    else:\n",
    "        print(f\"the give strings are not anagrams: {str1} ,{str2}\")\n",
    "\n",
    "        \n",
    "are_anagrams(\"listen\", \"silent\")\n",
    "are_anagrams(\"python\",\"java\")\n",
    "    "
   ]
  },
  {
   "cell_type": "markdown",
   "id": "3fe9abfd",
   "metadata": {},
   "source": [
    "9. Reverse Words in a Sentence<br>\n",
    "   - Write a program to reverse the order of words in a<br> given sentence.<br>\n",
    "   - Expected output: If the input sentence is \"The <br>quick brown fox jumps over the lazy dog.\", the <br>output should be \"dog. lazy the over jumps fox brown<br> quick The\"\n"
   ]
  },
  {
   "cell_type": "code",
   "execution_count": 41,
   "id": "5ad54962",
   "metadata": {},
   "outputs": [
    {
     "name": "stdout",
     "output_type": "stream",
     "text": [
      "dog. lazy the over jumps fox brown quick The "
     ]
    }
   ],
   "source": [
    "string = \"The quick brown fox jumps over the lazy dog.\"\n",
    "\n",
    "new_string = string.split(\" \")\n",
    "\n",
    "for i in range(len(new_string) - 1, -1, -1):\n",
    "    print(new_string[i], end=\" \")"
   ]
  },
  {
   "cell_type": "markdown",
   "id": "acf9e1d1",
   "metadata": {},
   "source": [
    " Temperature Converter<br>\n",
    "    - Write a program that can convert temperatures <br>between Celsius, Fahrenheit, and Kelvin.<br>\n",
    "    - Expected output: If the input is 20 degrees <br>Celsius, the output should be \"20 degrees Celsius is<br> equal to 68 degrees Fahrenheit and 293.15 degrees<br> Kelvin.\"\n"
   ]
  },
  {
   "cell_type": "code",
   "execution_count": 47,
   "id": "96601102",
   "metadata": {},
   "outputs": [
    {
     "name": "stdout",
     "output_type": "stream",
     "text": [
      "The 20 celsius is 293.15 and 68.0 fahreheit\n"
     ]
    }
   ],
   "source": [
    "def celsius_to_fahrenheit(celsius):\n",
    "    fahrenheit = (celsius * 9/5) + 32\n",
    "    return fahrenheit\n",
    "\n",
    "def celsius_to_kelvin(celsius):\n",
    "    kelvin = celsius + 273.15\n",
    "    return kelvin\n",
    "\n",
    "def temperature_converter(celsius):\n",
    "    fahrenheit = celsius_to_fahrenheit(celsius)\n",
    "    kelvin = celsius_to_kelvin(celsius)\n",
    "    return (f\"The {celsius} celsius is {kelvin} and {fahrenheit} fahreheit\")\n",
    "\n",
    "result = temperature_converter(20)\n",
    "\n",
    "print(result)"
   ]
  },
  {
   "cell_type": "code",
   "execution_count": null,
   "id": "d56d4d96",
   "metadata": {},
   "outputs": [],
   "source": []
  }
 ],
 "metadata": {
  "kernelspec": {
   "display_name": "Python 3 (ipykernel)",
   "language": "python",
   "name": "python3"
  },
  "language_info": {
   "codemirror_mode": {
    "name": "ipython",
    "version": 3
   },
   "file_extension": ".py",
   "mimetype": "text/x-python",
   "name": "python",
   "nbconvert_exporter": "python",
   "pygments_lexer": "ipython3",
   "version": "3.11.3"
  }
 },
 "nbformat": 4,
 "nbformat_minor": 5
}
